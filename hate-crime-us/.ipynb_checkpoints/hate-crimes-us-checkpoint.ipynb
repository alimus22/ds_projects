{
 "cells": [
  {
   "cell_type": "code",
   "execution_count": 7,
   "id": "10246728",
   "metadata": {},
   "outputs": [],
   "source": [
    "import pandas as pd\n",
    "import matplotlib.pyplot as plt\n",
    "import numpy as np"
   ]
  },
  {
   "cell_type": "code",
   "execution_count": 8,
   "id": "83825507",
   "metadata": {},
   "outputs": [],
   "source": [
    "df = pd.read_csv('data/hate_crimes.csv')"
   ]
  },
  {
   "cell_type": "code",
   "execution_count": 9,
   "id": "e66b7674",
   "metadata": {},
   "outputs": [
    {
     "data": {
      "text/plain": [
       "Index(['state', 'median_household_income', 'share_unemployed_seasonal',\n",
       "       'share_population_in_metro_areas',\n",
       "       'share_population_with_high_school_degree', 'share_non_citizen',\n",
       "       'share_white_poverty', 'gini_index', 'share_non_white',\n",
       "       'share_voters_voted_trump', 'hate_crimes_per_100k_splc',\n",
       "       'avg_hatecrimes_per_100k_fbi'],\n",
       "      dtype='object')"
      ]
     },
     "execution_count": 9,
     "metadata": {},
     "output_type": "execute_result"
    }
   ],
   "source": [
    "df.columns"
   ]
  },
  {
   "cell_type": "code",
   "execution_count": 19,
   "id": "6ccab0c7",
   "metadata": {},
   "outputs": [
    {
     "data": {
      "text/plain": [
       "<AxesSubplot:xlabel='avg_hatecrimes_per_100k_fbi', ylabel='share_non_white'>"
      ]
     },
     "execution_count": 19,
     "metadata": {},
     "output_type": "execute_result"
    },
    {
     "data": {
      "image/png": "[encoded data removed]",
      "text/plain": [
       "<Figure size 432x288 with 1 Axes>"
      ]
     },
     "metadata": {
      "needs_background": "light"
     },
     "output_type": "display_data"
    }
   ],
   "source": [
    "data = pd.concat([df['avg_hatecrimes_per_100k_fbi'], df['share_non_white']], axis=1)\n",
    "data.plot.scatter(x='avg_hatecrimes_per_100k_fbi', y='share_non_white')"
   ]
  },
  {
   "cell_type": "code",
   "execution_count": null,
   "id": "0a8f0852",
   "metadata": {},
   "outputs": [],
   "source": []
  }
 ],
 "metadata": {
  "kernelspec": {
   "display_name": "Python 3 (ipykernel)",
   "language": "python",
   "name": "python3"
  },
  "language_info": {
   "codemirror_mode": {
    "name": "ipython",
    "version": 3
   },
   "file_extension": ".py",
   "mimetype": "text/x-python",
   "name": "python",
   "nbconvert_exporter": "python",
   "pygments_lexer": "ipython3",
   "version": "3.9.7"
  }
 },
 "nbformat": 4,
 "nbformat_minor": 5
}
