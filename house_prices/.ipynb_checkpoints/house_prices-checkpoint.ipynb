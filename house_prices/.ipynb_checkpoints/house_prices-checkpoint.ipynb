{
 "cells": [
  {
   "cell_type": "markdown",
   "id": "561a9980",
   "metadata": {},
   "source": [
    "This project is widely inspired by Pedro Marcelino's \"Comprehensive Data Exploration with Python\" notebook. The main goal is to get familiar with common practices and methods performed in data science projects as well as the different python libraries used and their multiple applications."
   ]
  },
  {
   "cell_type": "code",
   "execution_count": 1,
   "id": "cfb77047",
   "metadata": {},
   "outputs": [],
   "source": [
    "import pandas as pd\n",
    "import matplotlib.pyplot as plt\n",
    "import seaborn as sns\n",
    "import numpy as np\n",
    "from scipy.stats import norm\n",
    "from sklearn.preprocessing import StandardScaler\n",
    "from scipy import stats\n",
    "import warnings\n",
    "warnings.filterwarnings('ignore')\n",
    "%matplotlib inline "
   ]
  },
  {
   "cell_type": "code",
   "execution_count": 2,
   "id": "5e68b5d5",
   "metadata": {},
   "outputs": [],
   "source": [
    "df_train = pd.read_csv('data/train.csv')"
   ]
  },
  {
   "cell_type": "markdown",
   "id": "9e6203cf",
   "metadata": {},
   "source": [
    "After reading the data, we want to understand the meaning of each variable and if possible, categorize them. It is also primordial to try to scope the potiential influence each variable can have on the independant variable SalesPrice. \n",
    "We can categorize the variable that have a potential influence on SalesPrice in three categories, low, medium, and high. This task is conducted in an excel spreadsheet."
   ]
  },
  {
   "cell_type": "code",
   "execution_count": 4,
   "id": "03a40ca2",
   "metadata": {},
   "outputs": [
    {
     "data": {
      "text/plain": [
       "Index(['Id', 'MSSubClass', 'MSZoning', 'LotFrontage', 'LotArea', 'Street',\n",
       "       'Alley', 'LotShape', 'LandContour', 'Utilities', 'LotConfig',\n",
       "       'LandSlope', 'Neighborhood', 'Condition1', 'Condition2', 'BldgType',\n",
       "       'HouseStyle', 'OverallQual', 'OverallCond', 'YearBuilt', 'YearRemodAdd',\n",
       "       'RoofStyle', 'RoofMatl', 'Exterior1st', 'Exterior2nd', 'MasVnrType',\n",
       "       'MasVnrArea', 'ExterQual', 'ExterCond', 'Foundation', 'BsmtQual',\n",
       "       'BsmtCond', 'BsmtExposure', 'BsmtFinType1', 'BsmtFinSF1',\n",
       "       'BsmtFinType2', 'BsmtFinSF2', 'BsmtUnfSF', 'TotalBsmtSF', 'Heating',\n",
       "       'HeatingQC', 'CentralAir', 'Electrical', '1stFlrSF', '2ndFlrSF',\n",
       "       'LowQualFinSF', 'GrLivArea', 'BsmtFullBath', 'BsmtHalfBath', 'FullBath',\n",
       "       'HalfBath', 'BedroomAbvGr', 'KitchenAbvGr', 'KitchenQual',\n",
       "       'TotRmsAbvGrd', 'Functional', 'Fireplaces', 'FireplaceQu', 'GarageType',\n",
       "       'GarageYrBlt', 'GarageFinish', 'GarageCars', 'GarageArea', 'GarageQual',\n",
       "       'GarageCond', 'PavedDrive', 'WoodDeckSF', 'OpenPorchSF',\n",
       "       'EnclosedPorch', '3SsnPorch', 'ScreenPorch', 'PoolArea', 'PoolQC',\n",
       "       'Fence', 'MiscFeature', 'MiscVal', 'MoSold', 'YrSold', 'SaleType',\n",
       "       'SaleCondition', 'SalePrice'],\n",
       "      dtype='object')"
      ]
     },
     "execution_count": 4,
     "metadata": {},
     "output_type": "execute_result"
    }
   ],
   "source": [
    "df_train.columns"
   ]
  },
  {
   "cell_type": "markdown",
   "id": "c09de8f2",
   "metadata": {},
   "source": [
    "Before proceeding further to data analysis, we must know what variable to focus our efforts on, or in other terms, what vriables may have the largest impact on the independant variable. In order to determine what are those variables, we must go through the list of all variables and ask ourselves questions like \"if I had to buy a house, how what importance would I give to 'this' variable ?\", \"Is the eventual value we can harvest from this variable already covered by another one ?\" etc.\n",
    "\n",
    "After this exercise, four variables are retained: GrLivArea, OverallQual, YearBuilt, and TotalBsmtSF."
   ]
  },
  {
   "cell_type": "code",
   "execution_count": 10,
   "id": "79a9518f",
   "metadata": {},
   "outputs": [
    {
     "data": {
      "text/plain": [
       "count      1460.000000\n",
       "mean     180921.195890\n",
       "std       79442.502883\n",
       "min       34900.000000\n",
       "25%      129975.000000\n",
       "50%      163000.000000\n",
       "75%      214000.000000\n",
       "max      755000.000000\n",
       "Name: SalePrice, dtype: float64"
      ]
     },
     "execution_count": 10,
     "metadata": {},
     "output_type": "execute_result"
    }
   ],
   "source": [
    "df_train['SalePrice'].describe()"
   ]
  },
  {
   "cell_type": "code",
   "execution_count": 22,
   "id": "a91bd23c",
   "metadata": {},
   "outputs": [
    {
     "data": {
      "image/png": "[encoded data removed]",
      "text/plain": [
       "<Figure size 432x288 with 1 Axes>"
      ]
     },
     "metadata": {
      "needs_background": "light"
     },
     "output_type": "display_data"
    }
   ],
   "source": [
    "sns.distplot(df_train['SalePrice']);\n",
    "plt.axvline(df_train['SalePrice'].mean(), color=\"red\")\n",
    "plt.axvline(df_train['SalePrice'].median(), color=\"green\");"
   ]
  },
  {
   "cell_type": "markdown",
   "id": "f8823c30",
   "metadata": {},
   "source": [
    "We see that the distribution differ greatly compared to a normal distribution with an important positive skew. The mean and median are both greater than the mode. Distribution is leptokurtic with an important peak. "
   ]
  },
  {
   "cell_type": "code",
   "execution_count": 23,
   "id": "19732a0a",
   "metadata": {},
   "outputs": [
    {
     "name": "stdout",
     "output_type": "stream",
     "text": [
      "Kurt: 6.536282\n",
      "Skew: 1.882876\n"
     ]
    }
   ],
   "source": [
    "print(\"Kurt: %f\" % df_train['SalePrice'].kurt());\n",
    "print(\"Skew: %f\" % df_train['SalePrice'].skew());"
   ]
  },
  {
   "cell_type": "code",
   "execution_count": null,
   "id": "94cc3ff2",
   "metadata": {},
   "outputs": [],
   "source": []
  }
 ],
 "metadata": {
  "kernelspec": {
   "display_name": "Python 3 (ipykernel)",
   "language": "python",
   "name": "python3"
  },
  "language_info": {
   "codemirror_mode": {
    "name": "ipython",
    "version": 3
   },
   "file_extension": ".py",
   "mimetype": "text/x-python",
   "name": "python",
   "nbconvert_exporter": "python",
   "pygments_lexer": "ipython3",
   "version": "3.9.7"
  }
 },
 "nbformat": 4,
 "nbformat_minor": 5
}
